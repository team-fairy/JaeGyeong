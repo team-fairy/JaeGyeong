{
 "cells": [
  {
   "cell_type": "markdown",
   "id": "agricultural-environment",
   "metadata": {},
   "source": [
    "**과적합을 방지하기 위해 test data는 데이터를 분석할 때, 학습할 때 절대 영향을 끼쳐서는 안된다는 것을 알지 못했을 때 작성했다.\n",
    "<br>이후 수정했지만, 중간에 total_df(test data+train data)를 사용해 데이터를 분석하거나 total_df가 학습에 영향을 끼치는 부분이 있다면 train_df으로 바꿔주어야 한다.**\n",
    "\n",
    "**전처리는 total_df를 사용해 한번에 전처리했다.**"
   ]
  },
  {
   "cell_type": "code",
   "execution_count": 4,
   "id": "precious-archive",
   "metadata": {},
   "outputs": [],
   "source": [
    "import pandas as pd\n",
    "import numpy as np\n",
    "import os"
   ]
  },
  {
   "cell_type": "code",
   "execution_count": 6,
   "id": "ancient-accessory",
   "metadata": {},
   "outputs": [
    {
     "data": {
      "text/plain": [
       "['gender_submission.csv', 'test.csv', 'train.csv']"
      ]
     },
     "execution_count": 6,
     "metadata": {},
     "output_type": "execute_result"
    }
   ],
   "source": [
    "# titanic 디렉토리 내 파일들 가져오기\n",
    "files = [file_name for file_name in os.listdir(\"./titanic\")]\n",
    "files"
   ]
  },
  {
   "cell_type": "code",
   "execution_count": 8,
   "id": "objective-pizza",
   "metadata": {},
   "outputs": [
    {
     "data": {
      "text/plain": [
       "[     PassengerId  Survived\n",
       " 0            892         0\n",
       " 1            893         1\n",
       " 2            894         0\n",
       " 3            895         0\n",
       " 4            896         1\n",
       " ..           ...       ...\n",
       " 413         1305         0\n",
       " 414         1306         1\n",
       " 415         1307         0\n",
       " 416         1308         0\n",
       " 417         1309         0\n",
       " \n",
       " [418 rows x 2 columns],\n",
       "      PassengerId  Pclass                                          Name  \\\n",
       " 0            892       3                              Kelly, Mr. James   \n",
       " 1            893       3              Wilkes, Mrs. James (Ellen Needs)   \n",
       " 2            894       2                     Myles, Mr. Thomas Francis   \n",
       " 3            895       3                              Wirz, Mr. Albert   \n",
       " 4            896       3  Hirvonen, Mrs. Alexander (Helga E Lindqvist)   \n",
       " ..           ...     ...                                           ...   \n",
       " 413         1305       3                            Spector, Mr. Woolf   \n",
       " 414         1306       1                  Oliva y Ocana, Dona. Fermina   \n",
       " 415         1307       3                  Saether, Mr. Simon Sivertsen   \n",
       " 416         1308       3                           Ware, Mr. Frederick   \n",
       " 417         1309       3                      Peter, Master. Michael J   \n",
       " \n",
       "         Sex   Age  SibSp  Parch              Ticket      Fare Cabin Embarked  \n",
       " 0      male  34.5      0      0              330911    7.8292   NaN        Q  \n",
       " 1    female  47.0      1      0              363272    7.0000   NaN        S  \n",
       " 2      male  62.0      0      0              240276    9.6875   NaN        Q  \n",
       " 3      male  27.0      0      0              315154    8.6625   NaN        S  \n",
       " 4    female  22.0      1      1             3101298   12.2875   NaN        S  \n",
       " ..      ...   ...    ...    ...                 ...       ...   ...      ...  \n",
       " 413    male   NaN      0      0           A.5. 3236    8.0500   NaN        S  \n",
       " 414  female  39.0      0      0            PC 17758  108.9000  C105        C  \n",
       " 415    male  38.5      0      0  SOTON/O.Q. 3101262    7.2500   NaN        S  \n",
       " 416    male   NaN      0      0              359309    8.0500   NaN        S  \n",
       " 417    male   NaN      1      1                2668   22.3583   NaN        C  \n",
       " \n",
       " [418 rows x 11 columns],\n",
       "      PassengerId  Survived  Pclass  \\\n",
       " 0              1         0       3   \n",
       " 1              2         1       1   \n",
       " 2              3         1       3   \n",
       " 3              4         1       1   \n",
       " 4              5         0       3   \n",
       " ..           ...       ...     ...   \n",
       " 886          887         0       2   \n",
       " 887          888         1       1   \n",
       " 888          889         0       3   \n",
       " 889          890         1       1   \n",
       " 890          891         0       3   \n",
       " \n",
       "                                                   Name     Sex   Age  SibSp  \\\n",
       " 0                              Braund, Mr. Owen Harris    male  22.0      1   \n",
       " 1    Cumings, Mrs. John Bradley (Florence Briggs Th...  female  38.0      1   \n",
       " 2                               Heikkinen, Miss. Laina  female  26.0      0   \n",
       " 3         Futrelle, Mrs. Jacques Heath (Lily May Peel)  female  35.0      1   \n",
       " 4                             Allen, Mr. William Henry    male  35.0      0   \n",
       " ..                                                 ...     ...   ...    ...   \n",
       " 886                              Montvila, Rev. Juozas    male  27.0      0   \n",
       " 887                       Graham, Miss. Margaret Edith  female  19.0      0   \n",
       " 888           Johnston, Miss. Catherine Helen \"Carrie\"  female   NaN      1   \n",
       " 889                              Behr, Mr. Karl Howell    male  26.0      0   \n",
       " 890                                Dooley, Mr. Patrick    male  32.0      0   \n",
       " \n",
       "      Parch            Ticket     Fare Cabin Embarked  \n",
       " 0        0         A/5 21171   7.2500   NaN        S  \n",
       " 1        0          PC 17599  71.2833   C85        C  \n",
       " 2        0  STON/O2. 3101282   7.9250   NaN        S  \n",
       " 3        0            113803  53.1000  C123        S  \n",
       " 4        0            373450   8.0500   NaN        S  \n",
       " ..     ...               ...      ...   ...      ...  \n",
       " 886      0            211536  13.0000   NaN        S  \n",
       " 887      0            112053  30.0000   B42        S  \n",
       " 888      2        W./C. 6607  23.4500   NaN        S  \n",
       " 889      0            111369  30.0000  C148        C  \n",
       " 890      0            370376   7.7500   NaN        Q  \n",
       " \n",
       " [891 rows x 12 columns]]"
      ]
     },
     "execution_count": 8,
     "metadata": {},
     "output_type": "execute_result"
    }
   ],
   "source": [
    "# files의 csv들을 dataframe으로 읽어오기\n",
    "df_list = [pd.read_csv(os.path.join(\"titanic\", file_name)) for file_name in files]\n",
    "df_list"
   ]
  },
  {
   "cell_type": "code",
   "execution_count": 9,
   "id": "legendary-amplifier",
   "metadata": {},
   "outputs": [
    {
     "data": {
      "text/html": [
       "<div>\n",
       "<style scoped>\n",
       "    .dataframe tbody tr th:only-of-type {\n",
       "        vertical-align: middle;\n",
       "    }\n",
       "\n",
       "    .dataframe tbody tr th {\n",
       "        vertical-align: top;\n",
       "    }\n",
       "\n",
       "    .dataframe thead th {\n",
       "        text-align: right;\n",
       "    }\n",
       "</style>\n",
       "<table border=\"1\" class=\"dataframe\">\n",
       "  <thead>\n",
       "    <tr style=\"text-align: right;\">\n",
       "      <th></th>\n",
       "      <th>index</th>\n",
       "      <th>PassengerId</th>\n",
       "      <th>Survived</th>\n",
       "      <th>Pclass</th>\n",
       "      <th>Name</th>\n",
       "      <th>Sex</th>\n",
       "      <th>Age</th>\n",
       "      <th>SibSp</th>\n",
       "      <th>Parch</th>\n",
       "      <th>Ticket</th>\n",
       "      <th>Fare</th>\n",
       "      <th>Cabin</th>\n",
       "      <th>Embarked</th>\n",
       "    </tr>\n",
       "  </thead>\n",
       "  <tbody>\n",
       "    <tr>\n",
       "      <th>0</th>\n",
       "      <td>0</td>\n",
       "      <td>1</td>\n",
       "      <td>0.0</td>\n",
       "      <td>3</td>\n",
       "      <td>Braund, Mr. Owen Harris</td>\n",
       "      <td>male</td>\n",
       "      <td>22.0</td>\n",
       "      <td>1</td>\n",
       "      <td>0</td>\n",
       "      <td>A/5 21171</td>\n",
       "      <td>7.2500</td>\n",
       "      <td>NaN</td>\n",
       "      <td>S</td>\n",
       "    </tr>\n",
       "    <tr>\n",
       "      <th>1</th>\n",
       "      <td>1</td>\n",
       "      <td>2</td>\n",
       "      <td>1.0</td>\n",
       "      <td>1</td>\n",
       "      <td>Cumings, Mrs. John Bradley (Florence Briggs Th...</td>\n",
       "      <td>female</td>\n",
       "      <td>38.0</td>\n",
       "      <td>1</td>\n",
       "      <td>0</td>\n",
       "      <td>PC 17599</td>\n",
       "      <td>71.2833</td>\n",
       "      <td>C85</td>\n",
       "      <td>C</td>\n",
       "    </tr>\n",
       "    <tr>\n",
       "      <th>2</th>\n",
       "      <td>2</td>\n",
       "      <td>3</td>\n",
       "      <td>1.0</td>\n",
       "      <td>3</td>\n",
       "      <td>Heikkinen, Miss. Laina</td>\n",
       "      <td>female</td>\n",
       "      <td>26.0</td>\n",
       "      <td>0</td>\n",
       "      <td>0</td>\n",
       "      <td>STON/O2. 3101282</td>\n",
       "      <td>7.9250</td>\n",
       "      <td>NaN</td>\n",
       "      <td>S</td>\n",
       "    </tr>\n",
       "    <tr>\n",
       "      <th>3</th>\n",
       "      <td>3</td>\n",
       "      <td>4</td>\n",
       "      <td>1.0</td>\n",
       "      <td>1</td>\n",
       "      <td>Futrelle, Mrs. Jacques Heath (Lily May Peel)</td>\n",
       "      <td>female</td>\n",
       "      <td>35.0</td>\n",
       "      <td>1</td>\n",
       "      <td>0</td>\n",
       "      <td>113803</td>\n",
       "      <td>53.1000</td>\n",
       "      <td>C123</td>\n",
       "      <td>S</td>\n",
       "    </tr>\n",
       "    <tr>\n",
       "      <th>4</th>\n",
       "      <td>4</td>\n",
       "      <td>5</td>\n",
       "      <td>0.0</td>\n",
       "      <td>3</td>\n",
       "      <td>Allen, Mr. William Henry</td>\n",
       "      <td>male</td>\n",
       "      <td>35.0</td>\n",
       "      <td>0</td>\n",
       "      <td>0</td>\n",
       "      <td>373450</td>\n",
       "      <td>8.0500</td>\n",
       "      <td>NaN</td>\n",
       "      <td>S</td>\n",
       "    </tr>\n",
       "    <tr>\n",
       "      <th>...</th>\n",
       "      <td>...</td>\n",
       "      <td>...</td>\n",
       "      <td>...</td>\n",
       "      <td>...</td>\n",
       "      <td>...</td>\n",
       "      <td>...</td>\n",
       "      <td>...</td>\n",
       "      <td>...</td>\n",
       "      <td>...</td>\n",
       "      <td>...</td>\n",
       "      <td>...</td>\n",
       "      <td>...</td>\n",
       "      <td>...</td>\n",
       "    </tr>\n",
       "    <tr>\n",
       "      <th>1304</th>\n",
       "      <td>413</td>\n",
       "      <td>1305</td>\n",
       "      <td>NaN</td>\n",
       "      <td>3</td>\n",
       "      <td>Spector, Mr. Woolf</td>\n",
       "      <td>male</td>\n",
       "      <td>NaN</td>\n",
       "      <td>0</td>\n",
       "      <td>0</td>\n",
       "      <td>A.5. 3236</td>\n",
       "      <td>8.0500</td>\n",
       "      <td>NaN</td>\n",
       "      <td>S</td>\n",
       "    </tr>\n",
       "    <tr>\n",
       "      <th>1305</th>\n",
       "      <td>414</td>\n",
       "      <td>1306</td>\n",
       "      <td>NaN</td>\n",
       "      <td>1</td>\n",
       "      <td>Oliva y Ocana, Dona. Fermina</td>\n",
       "      <td>female</td>\n",
       "      <td>39.0</td>\n",
       "      <td>0</td>\n",
       "      <td>0</td>\n",
       "      <td>PC 17758</td>\n",
       "      <td>108.9000</td>\n",
       "      <td>C105</td>\n",
       "      <td>C</td>\n",
       "    </tr>\n",
       "    <tr>\n",
       "      <th>1306</th>\n",
       "      <td>415</td>\n",
       "      <td>1307</td>\n",
       "      <td>NaN</td>\n",
       "      <td>3</td>\n",
       "      <td>Saether, Mr. Simon Sivertsen</td>\n",
       "      <td>male</td>\n",
       "      <td>38.5</td>\n",
       "      <td>0</td>\n",
       "      <td>0</td>\n",
       "      <td>SOTON/O.Q. 3101262</td>\n",
       "      <td>7.2500</td>\n",
       "      <td>NaN</td>\n",
       "      <td>S</td>\n",
       "    </tr>\n",
       "    <tr>\n",
       "      <th>1307</th>\n",
       "      <td>416</td>\n",
       "      <td>1308</td>\n",
       "      <td>NaN</td>\n",
       "      <td>3</td>\n",
       "      <td>Ware, Mr. Frederick</td>\n",
       "      <td>male</td>\n",
       "      <td>NaN</td>\n",
       "      <td>0</td>\n",
       "      <td>0</td>\n",
       "      <td>359309</td>\n",
       "      <td>8.0500</td>\n",
       "      <td>NaN</td>\n",
       "      <td>S</td>\n",
       "    </tr>\n",
       "    <tr>\n",
       "      <th>1308</th>\n",
       "      <td>417</td>\n",
       "      <td>1309</td>\n",
       "      <td>NaN</td>\n",
       "      <td>3</td>\n",
       "      <td>Peter, Master. Michael J</td>\n",
       "      <td>male</td>\n",
       "      <td>NaN</td>\n",
       "      <td>1</td>\n",
       "      <td>1</td>\n",
       "      <td>2668</td>\n",
       "      <td>22.3583</td>\n",
       "      <td>NaN</td>\n",
       "      <td>C</td>\n",
       "    </tr>\n",
       "  </tbody>\n",
       "</table>\n",
       "<p>1309 rows × 13 columns</p>\n",
       "</div>"
      ],
      "text/plain": [
       "      index  PassengerId  Survived  Pclass  \\\n",
       "0         0            1       0.0       3   \n",
       "1         1            2       1.0       1   \n",
       "2         2            3       1.0       3   \n",
       "3         3            4       1.0       1   \n",
       "4         4            5       0.0       3   \n",
       "...     ...          ...       ...     ...   \n",
       "1304    413         1305       NaN       3   \n",
       "1305    414         1306       NaN       1   \n",
       "1306    415         1307       NaN       3   \n",
       "1307    416         1308       NaN       3   \n",
       "1308    417         1309       NaN       3   \n",
       "\n",
       "                                                   Name     Sex   Age  SibSp  \\\n",
       "0                               Braund, Mr. Owen Harris    male  22.0      1   \n",
       "1     Cumings, Mrs. John Bradley (Florence Briggs Th...  female  38.0      1   \n",
       "2                                Heikkinen, Miss. Laina  female  26.0      0   \n",
       "3          Futrelle, Mrs. Jacques Heath (Lily May Peel)  female  35.0      1   \n",
       "4                              Allen, Mr. William Henry    male  35.0      0   \n",
       "...                                                 ...     ...   ...    ...   \n",
       "1304                                 Spector, Mr. Woolf    male   NaN      0   \n",
       "1305                       Oliva y Ocana, Dona. Fermina  female  39.0      0   \n",
       "1306                       Saether, Mr. Simon Sivertsen    male  38.5      0   \n",
       "1307                                Ware, Mr. Frederick    male   NaN      0   \n",
       "1308                           Peter, Master. Michael J    male   NaN      1   \n",
       "\n",
       "      Parch              Ticket      Fare Cabin Embarked  \n",
       "0         0           A/5 21171    7.2500   NaN        S  \n",
       "1         0            PC 17599   71.2833   C85        C  \n",
       "2         0    STON/O2. 3101282    7.9250   NaN        S  \n",
       "3         0              113803   53.1000  C123        S  \n",
       "4         0              373450    8.0500   NaN        S  \n",
       "...     ...                 ...       ...   ...      ...  \n",
       "1304      0           A.5. 3236    8.0500   NaN        S  \n",
       "1305      0            PC 17758  108.9000  C105        C  \n",
       "1306      0  SOTON/O.Q. 3101262    7.2500   NaN        S  \n",
       "1307      0              359309    8.0500   NaN        S  \n",
       "1308      1                2668   22.3583   NaN        C  \n",
       "\n",
       "[1309 rows x 13 columns]"
      ]
     },
     "execution_count": 9,
     "metadata": {},
     "output_type": "execute_result"
    }
   ],
   "source": [
    "# index 새로해서, train_data와 test_data 합치기\n",
    "total_df = pd.concat([df_list[2], df_list[1]]).reset_index()\n",
    "total_df"
   ]
  },
  {
   "cell_type": "code",
   "execution_count": 10,
   "id": "suited-highland",
   "metadata": {},
   "outputs": [],
   "source": [
    "train_index = list(range(len(df_list[1])))\n",
    "test_index = list(range(len(df_list[1]), len(total_df)))"
   ]
  },
  {
   "cell_type": "markdown",
   "id": "beneficial-chance",
   "metadata": {},
   "source": [
    "## data 분석"
   ]
  },
  {
   "cell_type": "markdown",
   "id": "accessible-jurisdiction",
   "metadata": {},
   "source": [
    "### 데이터의 종류(양적 데이터, 질적 데이터)\n",
    "#### 수치형 데이터\n",
    "수학 연산을 할 수 있는 수치 값, 데이터의 속성을 그대로 나타내고 있음\n",
    "- sum, max 의미 있음\n",
    "- 연속형\n",
    "    - ex. 키, 몸무게, 시간\n",
    "- 이산형\n",
    "    - ex. 사과의 개수, 책의 페이지 수\n",
    "\n",
    "#### 범주형 데이터\n",
    "범주로 나누어지는 값, 숫자로 나타낼 수는 있으나 아무 의미 없음\n",
    "- sum, max 의미 없음\n",
    "- 순서형\n",
    "    - ex. 순위, 등급\n",
    "- 명목형\n",
    "    - ex. 성별(남/여), 우편 번호(서울/부산/제주)"
   ]
  },
  {
   "cell_type": "code",
   "execution_count": 138,
   "id": "based-omaha",
   "metadata": {},
   "outputs": [
    {
     "data": {
      "text/html": [
       "<div>\n",
       "<style scoped>\n",
       "    .dataframe tbody tr th:only-of-type {\n",
       "        vertical-align: middle;\n",
       "    }\n",
       "\n",
       "    .dataframe tbody tr th {\n",
       "        vertical-align: top;\n",
       "    }\n",
       "\n",
       "    .dataframe thead th {\n",
       "        text-align: right;\n",
       "    }\n",
       "</style>\n",
       "<table border=\"1\" class=\"dataframe\">\n",
       "  <thead>\n",
       "    <tr style=\"text-align: right;\">\n",
       "      <th></th>\n",
       "      <th>index</th>\n",
       "      <th>PassengerId</th>\n",
       "      <th>Survived</th>\n",
       "      <th>Pclass</th>\n",
       "      <th>Name</th>\n",
       "      <th>Sex</th>\n",
       "      <th>Age</th>\n",
       "      <th>SibSp</th>\n",
       "      <th>Parch</th>\n",
       "      <th>Ticket</th>\n",
       "      <th>Fare</th>\n",
       "      <th>Cabin</th>\n",
       "      <th>Embarked</th>\n",
       "    </tr>\n",
       "  </thead>\n",
       "  <tbody>\n",
       "    <tr>\n",
       "      <th>0</th>\n",
       "      <td>0</td>\n",
       "      <td>1</td>\n",
       "      <td>0.0</td>\n",
       "      <td>3</td>\n",
       "      <td>Braund, Mr. Owen Harris</td>\n",
       "      <td>male</td>\n",
       "      <td>22.0</td>\n",
       "      <td>1</td>\n",
       "      <td>0</td>\n",
       "      <td>A/5 21171</td>\n",
       "      <td>7.25</td>\n",
       "      <td>NaN</td>\n",
       "      <td>S</td>\n",
       "    </tr>\n",
       "  </tbody>\n",
       "</table>\n",
       "</div>"
      ],
      "text/plain": [
       "   index  PassengerId  Survived  Pclass                     Name   Sex   Age  \\\n",
       "0      0            1       0.0       3  Braund, Mr. Owen Harris  male  22.0   \n",
       "\n",
       "   SibSp  Parch     Ticket  Fare Cabin Embarked  \n",
       "0      1      0  A/5 21171  7.25   NaN        S  "
      ]
     },
     "execution_count": 138,
     "metadata": {},
     "output_type": "execute_result"
    }
   ],
   "source": [
    "train_df.head(1)"
   ]
  },
  {
   "cell_type": "markdown",
   "id": "incomplete-distinction",
   "metadata": {},
   "source": [
    "#### 수치형 데이터\n",
    "수학 연산을 할 수 있는 수치 값\n",
    "- sum, max 의미 있음\n",
    "- 연속형\n",
    "    - ex. \n",
    "- 이산형\n",
    "    - ex. Age, SibSp(타이타닉 호에 탑승한 형제/자매/배우자 수의 총 합), Parch(타이타닉 호에 탐승한 부모/자녀 수의 총 합), Fare(탑승요금)\n",
    "\n",
    "#### 범주형 데이터(Qualitative, Categorical)\n",
    "범주로 나누어지는 값\n",
    "- sum, max 의미 없음\n",
    "- 순서형\n",
    "    - Pclass, Passengerld, Ticket(티켓번호), Cabin(객실번호)\n",
    "- 명목형\n",
    "    - Name, Sex, Embarked(승선항), Survived(생존여부)"
   ]
  },
  {
   "cell_type": "markdown",
   "id": "plastic-oracle",
   "metadata": {},
   "source": [
    "#### y의 값(Survived)과 다른 변수들이 어떤 상관관계가 있는지 확인"
   ]
  },
  {
   "cell_type": "code",
   "execution_count": 11,
   "id": "graduate-automation",
   "metadata": {},
   "outputs": [],
   "source": [
    "train_df = df_list[2]"
   ]
  },
  {
   "cell_type": "code",
   "execution_count": 13,
   "id": "connected-basics",
   "metadata": {},
   "outputs": [
    {
     "data": {
      "text/html": [
       "<div>\n",
       "<style scoped>\n",
       "    .dataframe tbody tr th:only-of-type {\n",
       "        vertical-align: middle;\n",
       "    }\n",
       "\n",
       "    .dataframe tbody tr th {\n",
       "        vertical-align: top;\n",
       "    }\n",
       "\n",
       "    .dataframe thead th {\n",
       "        text-align: right;\n",
       "    }\n",
       "</style>\n",
       "<table border=\"1\" class=\"dataframe\">\n",
       "  <thead>\n",
       "    <tr style=\"text-align: right;\">\n",
       "      <th></th>\n",
       "      <th>Embarked</th>\n",
       "      <th>C</th>\n",
       "      <th>Q</th>\n",
       "      <th>S</th>\n",
       "    </tr>\n",
       "    <tr>\n",
       "      <th>Sex</th>\n",
       "      <th>Pclass</th>\n",
       "      <th></th>\n",
       "      <th></th>\n",
       "      <th></th>\n",
       "    </tr>\n",
       "  </thead>\n",
       "  <tbody>\n",
       "    <tr>\n",
       "      <th rowspan=\"3\" valign=\"top\">female</th>\n",
       "      <th>1</th>\n",
       "      <td>12.280702</td>\n",
       "      <td>0.292398</td>\n",
       "      <td>13.450292</td>\n",
       "    </tr>\n",
       "    <tr>\n",
       "      <th>2</th>\n",
       "      <td>2.046784</td>\n",
       "      <td>0.584795</td>\n",
       "      <td>17.836257</td>\n",
       "    </tr>\n",
       "    <tr>\n",
       "      <th>3</th>\n",
       "      <td>4.385965</td>\n",
       "      <td>7.017544</td>\n",
       "      <td>9.649123</td>\n",
       "    </tr>\n",
       "    <tr>\n",
       "      <th rowspan=\"3\" valign=\"top\">male</th>\n",
       "      <th>1</th>\n",
       "      <td>4.970760</td>\n",
       "      <td>NaN</td>\n",
       "      <td>8.187135</td>\n",
       "    </tr>\n",
       "    <tr>\n",
       "      <th>2</th>\n",
       "      <td>0.584795</td>\n",
       "      <td>NaN</td>\n",
       "      <td>4.385965</td>\n",
       "    </tr>\n",
       "    <tr>\n",
       "      <th>3</th>\n",
       "      <td>2.923977</td>\n",
       "      <td>0.877193</td>\n",
       "      <td>9.941520</td>\n",
       "    </tr>\n",
       "  </tbody>\n",
       "</table>\n",
       "</div>"
      ],
      "text/plain": [
       "Embarked               C         Q          S\n",
       "Sex    Pclass                                \n",
       "female 1       12.280702  0.292398  13.450292\n",
       "       2        2.046784  0.584795  17.836257\n",
       "       3        4.385965  7.017544   9.649123\n",
       "male   1        4.970760       NaN   8.187135\n",
       "       2        0.584795       NaN   4.385965\n",
       "       3        2.923977  0.877193   9.941520"
      ]
     },
     "execution_count": 13,
     "metadata": {},
     "output_type": "execute_result"
    }
   ],
   "source": [
    "# 생존자들의 성별, Pclass, 승선지역 별 비율\n",
    "columns = [\"Sex\", \"Pclass\", \"Embarked\"]\n",
    "survived = train_df[train_df[\"Survived\"]==1][columns].value_counts()/len(train_df[train_df['Survived']==1]) * 100\n",
    "\n",
    "survived.unstack()"
   ]
  },
  {
   "cell_type": "code",
   "execution_count": 14,
   "id": "honey-school",
   "metadata": {},
   "outputs": [
    {
     "data": {
      "text/plain": [
       "female    68.128655\n",
       "male      31.871345\n",
       "Name: Sex, dtype: float64"
      ]
     },
     "execution_count": 14,
     "metadata": {},
     "output_type": "execute_result"
    }
   ],
   "source": [
    "survived = train_df[train_df['Survived']==1][\"Sex\"].value_counts() / len(train_df[train_df['Survived']==1]) * 100\n",
    "survived"
   ]
  },
  {
   "cell_type": "code",
   "execution_count": 16,
   "id": "capable-electricity",
   "metadata": {},
   "outputs": [
    {
     "data": {
      "text/plain": [
       "1    39.766082\n",
       "3    34.795322\n",
       "2    25.438596\n",
       "Name: Pclass, dtype: float64"
      ]
     },
     "execution_count": 16,
     "metadata": {},
     "output_type": "execute_result"
    }
   ],
   "source": [
    "survived = train_df[train_df['Survived']==1][\"Pclass\"].value_counts() / len(train_df[train_df['Survived']==1]) * 100\n",
    "survived"
   ]
  },
  {
   "cell_type": "code",
   "execution_count": 17,
   "id": "federal-parking",
   "metadata": {},
   "outputs": [
    {
     "data": {
      "text/html": [
       "<div>\n",
       "<style scoped>\n",
       "    .dataframe tbody tr th:only-of-type {\n",
       "        vertical-align: middle;\n",
       "    }\n",
       "\n",
       "    .dataframe tbody tr th {\n",
       "        vertical-align: top;\n",
       "    }\n",
       "\n",
       "    .dataframe thead th {\n",
       "        text-align: right;\n",
       "    }\n",
       "</style>\n",
       "<table border=\"1\" class=\"dataframe\">\n",
       "  <thead>\n",
       "    <tr style=\"text-align: right;\">\n",
       "      <th></th>\n",
       "      <th>Embarked</th>\n",
       "      <th>C</th>\n",
       "      <th>Q</th>\n",
       "      <th>S</th>\n",
       "    </tr>\n",
       "    <tr>\n",
       "      <th>Sex</th>\n",
       "      <th>Pclass</th>\n",
       "      <th></th>\n",
       "      <th></th>\n",
       "      <th></th>\n",
       "    </tr>\n",
       "  </thead>\n",
       "  <tbody>\n",
       "    <tr>\n",
       "      <th rowspan=\"3\" valign=\"top\">female</th>\n",
       "      <th>1</th>\n",
       "      <td>0.292398</td>\n",
       "      <td>NaN</td>\n",
       "      <td>0.584795</td>\n",
       "    </tr>\n",
       "    <tr>\n",
       "      <th>2</th>\n",
       "      <td>NaN</td>\n",
       "      <td>NaN</td>\n",
       "      <td>1.754386</td>\n",
       "    </tr>\n",
       "    <tr>\n",
       "      <th>3</th>\n",
       "      <td>2.339181</td>\n",
       "      <td>2.631579</td>\n",
       "      <td>16.081871</td>\n",
       "    </tr>\n",
       "    <tr>\n",
       "      <th rowspan=\"3\" valign=\"top\">male</th>\n",
       "      <th>1</th>\n",
       "      <td>7.309942</td>\n",
       "      <td>0.292398</td>\n",
       "      <td>14.912281</td>\n",
       "    </tr>\n",
       "    <tr>\n",
       "      <th>2</th>\n",
       "      <td>2.339181</td>\n",
       "      <td>0.292398</td>\n",
       "      <td>23.976608</td>\n",
       "    </tr>\n",
       "    <tr>\n",
       "      <th>3</th>\n",
       "      <td>9.649123</td>\n",
       "      <td>10.526316</td>\n",
       "      <td>67.543860</td>\n",
       "    </tr>\n",
       "  </tbody>\n",
       "</table>\n",
       "</div>"
      ],
      "text/plain": [
       "Embarked              C          Q          S\n",
       "Sex    Pclass                                \n",
       "female 1       0.292398        NaN   0.584795\n",
       "       2            NaN        NaN   1.754386\n",
       "       3       2.339181   2.631579  16.081871\n",
       "male   1       7.309942   0.292398  14.912281\n",
       "       2       2.339181   0.292398  23.976608\n",
       "       3       9.649123  10.526316  67.543860"
      ]
     },
     "execution_count": 17,
     "metadata": {},
     "output_type": "execute_result"
    }
   ],
   "source": [
    "# 사망자들의 성별, Pclass, 승선지역 별 비율\n",
    "dead = train_df[train_df['Survived']==0][columns].value_counts() / len(train_df[train_df['Survived']==1]) * 100\n",
    "dead.unstack()"
   ]
  },
  {
   "cell_type": "markdown",
   "id": "metric-impossible",
   "metadata": {},
   "source": [
    "### 두 변수들의 상관관계 알아보기\n",
    "#### 공분산(Covariance)\n",
    "- 두 변수 x의 편차와 y의 편차를 곱한 것의 평균\n",
    "- 단위의 크기에 영향을 받는다.\n",
    "\n",
    "#### 상관계수(Corrleation)\n",
    "- 변수의 절대적 크기에 영향을 받지 않도록 단위화 시킨 것.\n",
    "- 기본적으로 피어슨 상관계수가 이용된다.\n",
    "    - r = x와 y가 함께 변하는 정도 / x와 y가 각각 변하는 정도    \n",
    "        - 0.7 ~ 1.0 : 강한 양적 상관관계\n",
    "        - 0.3 ~ 0.8 : 뚜렷한 양적 상관관계\n",
    "        - 0.1 ~ 0.3 : 약한 양적 상관관계\n",
    "        - -0.1 ~ 0.1 : 상관관계 거의 없음\n",
    "        - -0.3 ~ -0.1 : 약한 음적 상관관계\n",
    "        - -0.7 ~ -0.3 : 뚜렷한 음적 상관관계\n",
    "        - -1.0 ~ -0.7 : 강한 음적 상관관계\n",
    "    - https://gomguard.tistory.com/173"
   ]
  },
  {
   "cell_type": "code",
   "execution_count": 20,
   "id": "pointed-chemistry",
   "metadata": {
    "scrolled": false
   },
   "outputs": [
    {
     "data": {
      "text/html": [
       "<div>\n",
       "<style scoped>\n",
       "    .dataframe tbody tr th:only-of-type {\n",
       "        vertical-align: middle;\n",
       "    }\n",
       "\n",
       "    .dataframe tbody tr th {\n",
       "        vertical-align: top;\n",
       "    }\n",
       "\n",
       "    .dataframe thead th {\n",
       "        text-align: right;\n",
       "    }\n",
       "</style>\n",
       "<table border=\"1\" class=\"dataframe\">\n",
       "  <thead>\n",
       "    <tr style=\"text-align: right;\">\n",
       "      <th></th>\n",
       "      <th>index</th>\n",
       "      <th>PassengerId</th>\n",
       "      <th>Survived</th>\n",
       "      <th>Pclass</th>\n",
       "      <th>Age</th>\n",
       "      <th>SibSp</th>\n",
       "      <th>Parch</th>\n",
       "      <th>Fare</th>\n",
       "      <th>Sex_code</th>\n",
       "    </tr>\n",
       "  </thead>\n",
       "  <tbody>\n",
       "    <tr>\n",
       "      <th>index</th>\n",
       "      <td>1.000000</td>\n",
       "      <td>0.170654</td>\n",
       "      <td>-0.005007</td>\n",
       "      <td>-0.018212</td>\n",
       "      <td>0.012723</td>\n",
       "      <td>-0.027343</td>\n",
       "      <td>0.003911</td>\n",
       "      <td>-0.003723</td>\n",
       "      <td>-0.038626</td>\n",
       "    </tr>\n",
       "    <tr>\n",
       "      <th>PassengerId</th>\n",
       "      <td>0.170654</td>\n",
       "      <td>1.000000</td>\n",
       "      <td>-0.005007</td>\n",
       "      <td>-0.038354</td>\n",
       "      <td>0.028814</td>\n",
       "      <td>-0.055224</td>\n",
       "      <td>0.008942</td>\n",
       "      <td>0.031428</td>\n",
       "      <td>-0.013406</td>\n",
       "    </tr>\n",
       "    <tr>\n",
       "      <th>Survived</th>\n",
       "      <td>-0.005007</td>\n",
       "      <td>-0.005007</td>\n",
       "      <td>1.000000</td>\n",
       "      <td>-0.338481</td>\n",
       "      <td>-0.077221</td>\n",
       "      <td>-0.035322</td>\n",
       "      <td>0.081629</td>\n",
       "      <td>0.257307</td>\n",
       "      <td>0.543351</td>\n",
       "    </tr>\n",
       "    <tr>\n",
       "      <th>Pclass</th>\n",
       "      <td>-0.018212</td>\n",
       "      <td>-0.038354</td>\n",
       "      <td>-0.338481</td>\n",
       "      <td>1.000000</td>\n",
       "      <td>-0.408106</td>\n",
       "      <td>0.060832</td>\n",
       "      <td>0.018322</td>\n",
       "      <td>-0.558629</td>\n",
       "      <td>-0.124617</td>\n",
       "    </tr>\n",
       "    <tr>\n",
       "      <th>Age</th>\n",
       "      <td>0.012723</td>\n",
       "      <td>0.028814</td>\n",
       "      <td>-0.077221</td>\n",
       "      <td>-0.408106</td>\n",
       "      <td>1.000000</td>\n",
       "      <td>-0.243699</td>\n",
       "      <td>-0.150917</td>\n",
       "      <td>0.178740</td>\n",
       "      <td>-0.063645</td>\n",
       "    </tr>\n",
       "    <tr>\n",
       "      <th>SibSp</th>\n",
       "      <td>-0.027343</td>\n",
       "      <td>-0.055224</td>\n",
       "      <td>-0.035322</td>\n",
       "      <td>0.060832</td>\n",
       "      <td>-0.243699</td>\n",
       "      <td>1.000000</td>\n",
       "      <td>0.373587</td>\n",
       "      <td>0.160238</td>\n",
       "      <td>0.109609</td>\n",
       "    </tr>\n",
       "    <tr>\n",
       "      <th>Parch</th>\n",
       "      <td>0.003911</td>\n",
       "      <td>0.008942</td>\n",
       "      <td>0.081629</td>\n",
       "      <td>0.018322</td>\n",
       "      <td>-0.150917</td>\n",
       "      <td>0.373587</td>\n",
       "      <td>1.000000</td>\n",
       "      <td>0.221539</td>\n",
       "      <td>0.213125</td>\n",
       "    </tr>\n",
       "    <tr>\n",
       "      <th>Fare</th>\n",
       "      <td>-0.003723</td>\n",
       "      <td>0.031428</td>\n",
       "      <td>0.257307</td>\n",
       "      <td>-0.558629</td>\n",
       "      <td>0.178740</td>\n",
       "      <td>0.160238</td>\n",
       "      <td>0.221539</td>\n",
       "      <td>1.000000</td>\n",
       "      <td>0.185523</td>\n",
       "    </tr>\n",
       "    <tr>\n",
       "      <th>Sex_code</th>\n",
       "      <td>-0.038626</td>\n",
       "      <td>-0.013406</td>\n",
       "      <td>0.543351</td>\n",
       "      <td>-0.124617</td>\n",
       "      <td>-0.063645</td>\n",
       "      <td>0.109609</td>\n",
       "      <td>0.213125</td>\n",
       "      <td>0.185523</td>\n",
       "      <td>1.000000</td>\n",
       "    </tr>\n",
       "  </tbody>\n",
       "</table>\n",
       "</div>"
      ],
      "text/plain": [
       "                index  PassengerId  Survived    Pclass       Age     SibSp  \\\n",
       "index        1.000000     0.170654 -0.005007 -0.018212  0.012723 -0.027343   \n",
       "PassengerId  0.170654     1.000000 -0.005007 -0.038354  0.028814 -0.055224   \n",
       "Survived    -0.005007    -0.005007  1.000000 -0.338481 -0.077221 -0.035322   \n",
       "Pclass      -0.018212    -0.038354 -0.338481  1.000000 -0.408106  0.060832   \n",
       "Age          0.012723     0.028814 -0.077221 -0.408106  1.000000 -0.243699   \n",
       "SibSp       -0.027343    -0.055224 -0.035322  0.060832 -0.243699  1.000000   \n",
       "Parch        0.003911     0.008942  0.081629  0.018322 -0.150917  0.373587   \n",
       "Fare        -0.003723     0.031428  0.257307 -0.558629  0.178740  0.160238   \n",
       "Sex_code    -0.038626    -0.013406  0.543351 -0.124617 -0.063645  0.109609   \n",
       "\n",
       "                Parch      Fare  Sex_code  \n",
       "index        0.003911 -0.003723 -0.038626  \n",
       "PassengerId  0.008942  0.031428 -0.013406  \n",
       "Survived     0.081629  0.257307  0.543351  \n",
       "Pclass       0.018322 -0.558629 -0.124617  \n",
       "Age         -0.150917  0.178740 -0.063645  \n",
       "SibSp        0.373587  0.160238  0.109609  \n",
       "Parch        1.000000  0.221539  0.213125  \n",
       "Fare         0.221539  1.000000  0.185523  \n",
       "Sex_code     0.213125  0.185523  1.000000  "
      ]
     },
     "execution_count": 20,
     "metadata": {},
     "output_type": "execute_result"
    }
   ],
   "source": [
    "# 두 변수들의 상관관계 알아보기\n",
    "train_df.corr()"
   ]
  },
  {
   "cell_type": "code",
   "execution_count": 19,
   "id": "smoking-ukraine",
   "metadata": {},
   "outputs": [],
   "source": [
    "# Sex_code 생성 male->0, female->1 \n",
    "train_df[\"Sex_code\"] = train_df.Sex.map({\"male\":0, \"female\":1})"
   ]
  },
  {
   "cell_type": "markdown",
   "id": "cultural-decision",
   "metadata": {},
   "source": [
    "### 범주형 - 범주형\n",
    "\n",
    "#### Phi correlation\n",
    "- 비교대상 범주 대상이 2개\n",
    "\n",
    "#### Cramer's V\n",
    "- 비교대상 범주 3개 이상\n",
    "\n",
    "### 범주형 - 연속형\n",
    "\n",
    "#### Point biserial correlation\n",
    "**↑ Pclass(명명척도), Fare(연속형 변수)**\n",
    "- 두 개 변수 중 하나는 범주형 변수이고, 다른 하나는 연속형 변수일 때\n",
    "- ex. 성별과 수학점수와의 관계\n",
    "\n",
    "#### Biserial correlation\n",
    "- 두 개 변수 중 하나는 명명척도이고 하나는 연속변수일 때\n",
    "- 명명척도의 유목은 인위적 구분하는 이분변수\n",
    "- ex. 우열반 편성여부와 중간고사 점수와의 상관관계\n",
    "\n",
    "#### Polyserial correlation\n",
    "- 두 개 변수 중 하나는 명명척도이고 하나는 연속변수일 때\n",
    "- 명명척도의 유목은 비인위적이며 3개 이상의 유목\n",
    "- ex. 인종과 키와의 상관관계\n",
    "\n",
    "https://dodonam.tistory.com/217"
   ]
  },
  {
   "cell_type": "code",
   "execution_count": 21,
   "id": "compressed-consensus",
   "metadata": {},
   "outputs": [
    {
     "data": {
      "text/plain": [
       "PointbiserialrResult(correlation=-0.5586287323271726, pvalue=3.2662678942758068e-108)"
      ]
     },
     "execution_count": 21,
     "metadata": {},
     "output_type": "execute_result"
    }
   ],
   "source": [
    "from scipy import stats\n",
    "stats.pointbiserialr(train_df.loc[train_df[\"Fare\"].notnull(), \"Pclass\"], train_df.loc[train_df[\"Fare\"].notnull(), \"Fare\"])"
   ]
  },
  {
   "cell_type": "code",
   "execution_count": 22,
   "id": "dramatic-drill",
   "metadata": {
    "scrolled": true
   },
   "outputs": [
    {
     "data": {
      "text/html": [
       "<div>\n",
       "<style scoped>\n",
       "    .dataframe tbody tr th:only-of-type {\n",
       "        vertical-align: middle;\n",
       "    }\n",
       "\n",
       "    .dataframe tbody tr th {\n",
       "        vertical-align: top;\n",
       "    }\n",
       "\n",
       "    .dataframe thead th {\n",
       "        text-align: right;\n",
       "    }\n",
       "</style>\n",
       "<table border=\"1\" class=\"dataframe\">\n",
       "  <thead>\n",
       "    <tr style=\"text-align: right;\">\n",
       "      <th></th>\n",
       "      <th>Fare</th>\n",
       "    </tr>\n",
       "    <tr>\n",
       "      <th>Pclass</th>\n",
       "      <th></th>\n",
       "    </tr>\n",
       "  </thead>\n",
       "  <tbody>\n",
       "    <tr>\n",
       "      <th>1</th>\n",
       "      <td>87.508992</td>\n",
       "    </tr>\n",
       "    <tr>\n",
       "      <th>2</th>\n",
       "      <td>21.179196</td>\n",
       "    </tr>\n",
       "    <tr>\n",
       "      <th>3</th>\n",
       "      <td>13.302889</td>\n",
       "    </tr>\n",
       "  </tbody>\n",
       "</table>\n",
       "</div>"
      ],
      "text/plain": [
       "             Fare\n",
       "Pclass           \n",
       "1       87.508992\n",
       "2       21.179196\n",
       "3       13.302889"
      ]
     },
     "execution_count": 22,
     "metadata": {},
     "output_type": "execute_result"
    }
   ],
   "source": [
    "# Pclass별 Fare(승선료)의 평균을 구해라.\n",
    "train_df[[\"Pclass\", \"Fare\"]].groupby([\"Pclass\"]).mean()"
   ]
  },
  {
   "cell_type": "code",
   "execution_count": 26,
   "id": "green-recording",
   "metadata": {},
   "outputs": [
    {
     "data": {
      "text/html": [
       "<div>\n",
       "<style scoped>\n",
       "    .dataframe tbody tr th:only-of-type {\n",
       "        vertical-align: middle;\n",
       "    }\n",
       "\n",
       "    .dataframe tbody tr th {\n",
       "        vertical-align: top;\n",
       "    }\n",
       "\n",
       "    .dataframe thead th {\n",
       "        text-align: right;\n",
       "    }\n",
       "</style>\n",
       "<table border=\"1\" class=\"dataframe\">\n",
       "  <thead>\n",
       "    <tr style=\"text-align: right;\">\n",
       "      <th></th>\n",
       "      <th>Age</th>\n",
       "      <th>SibSp</th>\n",
       "      <th>Parch</th>\n",
       "      <th>Fare</th>\n",
       "    </tr>\n",
       "  </thead>\n",
       "  <tbody>\n",
       "    <tr>\n",
       "      <th>count</th>\n",
       "      <td>1046.000000</td>\n",
       "      <td>1309.000000</td>\n",
       "      <td>1309.000000</td>\n",
       "      <td>1308.000000</td>\n",
       "    </tr>\n",
       "    <tr>\n",
       "      <th>mean</th>\n",
       "      <td>29.881138</td>\n",
       "      <td>0.498854</td>\n",
       "      <td>0.385027</td>\n",
       "      <td>33.295479</td>\n",
       "    </tr>\n",
       "    <tr>\n",
       "      <th>std</th>\n",
       "      <td>14.413493</td>\n",
       "      <td>1.041658</td>\n",
       "      <td>0.865560</td>\n",
       "      <td>51.758668</td>\n",
       "    </tr>\n",
       "    <tr>\n",
       "      <th>min</th>\n",
       "      <td>0.170000</td>\n",
       "      <td>0.000000</td>\n",
       "      <td>0.000000</td>\n",
       "      <td>0.000000</td>\n",
       "    </tr>\n",
       "    <tr>\n",
       "      <th>25%</th>\n",
       "      <td>21.000000</td>\n",
       "      <td>0.000000</td>\n",
       "      <td>0.000000</td>\n",
       "      <td>7.895800</td>\n",
       "    </tr>\n",
       "    <tr>\n",
       "      <th>50%</th>\n",
       "      <td>28.000000</td>\n",
       "      <td>0.000000</td>\n",
       "      <td>0.000000</td>\n",
       "      <td>14.454200</td>\n",
       "    </tr>\n",
       "    <tr>\n",
       "      <th>75%</th>\n",
       "      <td>39.000000</td>\n",
       "      <td>1.000000</td>\n",
       "      <td>0.000000</td>\n",
       "      <td>31.275000</td>\n",
       "    </tr>\n",
       "    <tr>\n",
       "      <th>max</th>\n",
       "      <td>80.000000</td>\n",
       "      <td>8.000000</td>\n",
       "      <td>9.000000</td>\n",
       "      <td>512.329200</td>\n",
       "    </tr>\n",
       "  </tbody>\n",
       "</table>\n",
       "</div>"
      ],
      "text/plain": [
       "               Age        SibSp        Parch         Fare\n",
       "count  1046.000000  1309.000000  1309.000000  1308.000000\n",
       "mean     29.881138     0.498854     0.385027    33.295479\n",
       "std      14.413493     1.041658     0.865560    51.758668\n",
       "min       0.170000     0.000000     0.000000     0.000000\n",
       "25%      21.000000     0.000000     0.000000     7.895800\n",
       "50%      28.000000     0.000000     0.000000    14.454200\n",
       "75%      39.000000     1.000000     0.000000    31.275000\n",
       "max      80.000000     8.000000     9.000000   512.329200"
      ]
     },
     "execution_count": 26,
     "metadata": {},
     "output_type": "execute_result"
    }
   ],
   "source": [
    "# 수치형 데이터의 통계치 확인\n",
    "numeric_list = [\"Age\", \"SibSp\", \"Parch\", \"Fare\"]\n",
    "train_df[numeric_list].describe()"
   ]
  },
  {
   "cell_type": "markdown",
   "id": "paperback-september",
   "metadata": {},
   "source": [
    "### 데이터 전처리\n",
    "- null 값 처리\n",
    "- 문자형 데이터(object) -> str\n",
    "    - one-hot encoding\n",
    "    - gen_dummies()\n",
    "- https://cyc1am3n.github.io/2018/10/09/my-first-kaggle-competition_titanic.html"
   ]
  },
  {
   "cell_type": "code",
   "execution_count": 213,
   "id": "altered-standard",
   "metadata": {
    "scrolled": true
   },
   "outputs": [
    {
     "data": {
      "text/plain": [
       "index              int64\n",
       "PassengerId        int64\n",
       "Survived         float64\n",
       "Sex               object\n",
       "Age              float64\n",
       "SibSp              int64\n",
       "Parch              int64\n",
       "Fare             float64\n",
       "Embarked          object\n",
       "Sex_code           int64\n",
       "Embarked_code      int64\n",
       "dtype: object"
      ]
     },
     "execution_count": 213,
     "metadata": {},
     "output_type": "execute_result"
    }
   ],
   "source": [
    "total_df.dtypes"
   ]
  },
  {
   "cell_type": "markdown",
   "id": "noted-desktop",
   "metadata": {},
   "source": [
    "**~~Name~~, Sex, ~~Ticket~~, ~~Cabin~~, Embarked => object type**"
   ]
  },
  {
   "cell_type": "markdown",
   "id": "flush-above",
   "metadata": {},
   "source": [
    "### Sex Feature"
   ]
  },
  {
   "cell_type": "code",
   "execution_count": 27,
   "id": "biblical-insider",
   "metadata": {},
   "outputs": [],
   "source": [
    "total_df[\"Sex\"] = total_df[\"Sex\"].astype(str)"
   ]
  },
  {
   "cell_type": "code",
   "execution_count": 31,
   "id": "healthy-bargain",
   "metadata": {
    "scrolled": true
   },
   "outputs": [
    {
     "data": {
      "text/plain": [
       "index             0\n",
       "PassengerId       0\n",
       "Survived        418\n",
       "Pclass            0\n",
       "Name              0\n",
       "Sex               0\n",
       "Age             263\n",
       "SibSp             0\n",
       "Parch             0\n",
       "Ticket            0\n",
       "Fare              1\n",
       "Cabin          1014\n",
       "Embarked          0\n",
       "Sex_code          0\n",
       "dtype: int64"
      ]
     },
     "execution_count": 31,
     "metadata": {},
     "output_type": "execute_result"
    }
   ],
   "source": [
    "# 비어있는 데이터 확인\n",
    "total_df.isnull().sum()"
   ]
  },
  {
   "cell_type": "markdown",
   "id": "vocal-detection",
   "metadata": {},
   "source": [
    "### Embarked Feature"
   ]
  },
  {
   "cell_type": "code",
   "execution_count": 29,
   "id": "egyptian-airline",
   "metadata": {},
   "outputs": [
    {
     "data": {
      "text/plain": [
       "S    914\n",
       "C    270\n",
       "Q    123\n",
       "Name: Embarked, dtype: int64"
      ]
     },
     "execution_count": 29,
     "metadata": {},
     "output_type": "execute_result"
    }
   ],
   "source": [
    "# train data에서 가장 많이 있는 데이터 보기, 각 embarked별 count\n",
    "train_df[\"Embarked\"].value_counts()"
   ]
  },
  {
   "cell_type": "code",
   "execution_count": 30,
   "id": "computational-imaging",
   "metadata": {},
   "outputs": [],
   "source": [
    "# Embarked 비어있는 값 S로 채우기\n",
    "# total_df.loc[total_df[\"Embarked\"].isnull(), \"Embarked\"] = 'S'\n",
    "total_df['Embarked'] = total_df['Embarked'].fillna('S')"
   ]
  },
  {
   "cell_type": "code",
   "execution_count": 32,
   "id": "fatal-terrain",
   "metadata": {},
   "outputs": [
    {
     "data": {
      "text/html": [
       "<div>\n",
       "<style scoped>\n",
       "    .dataframe tbody tr th:only-of-type {\n",
       "        vertical-align: middle;\n",
       "    }\n",
       "\n",
       "    .dataframe tbody tr th {\n",
       "        vertical-align: top;\n",
       "    }\n",
       "\n",
       "    .dataframe thead th {\n",
       "        text-align: right;\n",
       "    }\n",
       "</style>\n",
       "<table border=\"1\" class=\"dataframe\">\n",
       "  <thead>\n",
       "    <tr style=\"text-align: right;\">\n",
       "      <th></th>\n",
       "      <th>index</th>\n",
       "      <th>PassengerId</th>\n",
       "      <th>Survived</th>\n",
       "      <th>Pclass</th>\n",
       "      <th>Name</th>\n",
       "      <th>Sex</th>\n",
       "      <th>Age</th>\n",
       "      <th>SibSp</th>\n",
       "      <th>Parch</th>\n",
       "      <th>Ticket</th>\n",
       "      <th>Fare</th>\n",
       "      <th>Cabin</th>\n",
       "      <th>Embarked</th>\n",
       "      <th>Sex_code</th>\n",
       "      <th>Embarked_code</th>\n",
       "    </tr>\n",
       "  </thead>\n",
       "  <tbody>\n",
       "    <tr>\n",
       "      <th>0</th>\n",
       "      <td>0</td>\n",
       "      <td>1</td>\n",
       "      <td>0.0</td>\n",
       "      <td>3</td>\n",
       "      <td>Braund, Mr. Owen Harris</td>\n",
       "      <td>male</td>\n",
       "      <td>22.0</td>\n",
       "      <td>1</td>\n",
       "      <td>0</td>\n",
       "      <td>A/5 21171</td>\n",
       "      <td>7.2500</td>\n",
       "      <td>NaN</td>\n",
       "      <td>S</td>\n",
       "      <td>0</td>\n",
       "      <td>0</td>\n",
       "    </tr>\n",
       "    <tr>\n",
       "      <th>1</th>\n",
       "      <td>1</td>\n",
       "      <td>2</td>\n",
       "      <td>1.0</td>\n",
       "      <td>1</td>\n",
       "      <td>Cumings, Mrs. John Bradley (Florence Briggs Th...</td>\n",
       "      <td>female</td>\n",
       "      <td>38.0</td>\n",
       "      <td>1</td>\n",
       "      <td>0</td>\n",
       "      <td>PC 17599</td>\n",
       "      <td>71.2833</td>\n",
       "      <td>C85</td>\n",
       "      <td>C</td>\n",
       "      <td>1</td>\n",
       "      <td>1</td>\n",
       "    </tr>\n",
       "    <tr>\n",
       "      <th>2</th>\n",
       "      <td>2</td>\n",
       "      <td>3</td>\n",
       "      <td>1.0</td>\n",
       "      <td>3</td>\n",
       "      <td>Heikkinen, Miss. Laina</td>\n",
       "      <td>female</td>\n",
       "      <td>26.0</td>\n",
       "      <td>0</td>\n",
       "      <td>0</td>\n",
       "      <td>STON/O2. 3101282</td>\n",
       "      <td>7.9250</td>\n",
       "      <td>NaN</td>\n",
       "      <td>S</td>\n",
       "      <td>1</td>\n",
       "      <td>0</td>\n",
       "    </tr>\n",
       "    <tr>\n",
       "      <th>3</th>\n",
       "      <td>3</td>\n",
       "      <td>4</td>\n",
       "      <td>1.0</td>\n",
       "      <td>1</td>\n",
       "      <td>Futrelle, Mrs. Jacques Heath (Lily May Peel)</td>\n",
       "      <td>female</td>\n",
       "      <td>35.0</td>\n",
       "      <td>1</td>\n",
       "      <td>0</td>\n",
       "      <td>113803</td>\n",
       "      <td>53.1000</td>\n",
       "      <td>C123</td>\n",
       "      <td>S</td>\n",
       "      <td>1</td>\n",
       "      <td>0</td>\n",
       "    </tr>\n",
       "    <tr>\n",
       "      <th>4</th>\n",
       "      <td>4</td>\n",
       "      <td>5</td>\n",
       "      <td>0.0</td>\n",
       "      <td>3</td>\n",
       "      <td>Allen, Mr. William Henry</td>\n",
       "      <td>male</td>\n",
       "      <td>35.0</td>\n",
       "      <td>0</td>\n",
       "      <td>0</td>\n",
       "      <td>373450</td>\n",
       "      <td>8.0500</td>\n",
       "      <td>NaN</td>\n",
       "      <td>S</td>\n",
       "      <td>0</td>\n",
       "      <td>0</td>\n",
       "    </tr>\n",
       "  </tbody>\n",
       "</table>\n",
       "</div>"
      ],
      "text/plain": [
       "   index  PassengerId  Survived  Pclass  \\\n",
       "0      0            1       0.0       3   \n",
       "1      1            2       1.0       1   \n",
       "2      2            3       1.0       3   \n",
       "3      3            4       1.0       1   \n",
       "4      4            5       0.0       3   \n",
       "\n",
       "                                                Name     Sex   Age  SibSp  \\\n",
       "0                            Braund, Mr. Owen Harris    male  22.0      1   \n",
       "1  Cumings, Mrs. John Bradley (Florence Briggs Th...  female  38.0      1   \n",
       "2                             Heikkinen, Miss. Laina  female  26.0      0   \n",
       "3       Futrelle, Mrs. Jacques Heath (Lily May Peel)  female  35.0      1   \n",
       "4                           Allen, Mr. William Henry    male  35.0      0   \n",
       "\n",
       "   Parch            Ticket     Fare Cabin Embarked  Sex_code  Embarked_code  \n",
       "0      0         A/5 21171   7.2500   NaN        S         0              0  \n",
       "1      0          PC 17599  71.2833   C85        C         1              1  \n",
       "2      0  STON/O2. 3101282   7.9250   NaN        S         1              0  \n",
       "3      0            113803  53.1000  C123        S         1              0  \n",
       "4      0            373450   8.0500   NaN        S         0              0  "
      ]
     },
     "execution_count": 32,
     "metadata": {},
     "output_type": "execute_result"
    }
   ],
   "source": [
    "# Embarked column Embarked_code로 replace\n",
    "Embarked_code = {em: i for i, em in enumerate(total_df[\"Embarked\"].unique())}\n",
    "total_df[\"Embarked_code\"] = total_df.Embarked.map(Embarked_code)\n",
    "total_df.head()"
   ]
  },
  {
   "cell_type": "code",
   "execution_count": 33,
   "id": "veterinary-superintendent",
   "metadata": {},
   "outputs": [],
   "source": [
    "total_df['Embarked'] = total_df['Embarked'].astype(str)"
   ]
  },
  {
   "cell_type": "markdown",
   "id": "simple-kuwait",
   "metadata": {},
   "source": [
    "### Age Feature"
   ]
  },
  {
   "cell_type": "code",
   "execution_count": 34,
   "id": "noted-thong",
   "metadata": {},
   "outputs": [],
   "source": [
    "# Age가 null인 경우 train data의 평균 나이로 대체\n",
    "total_df.loc[total_df[\"Age\"].isnull(), \"Age\"] = train_df[\"Age\"].mean()"
   ]
  },
  {
   "cell_type": "code",
   "execution_count": 35,
   "id": "abroad-spine",
   "metadata": {},
   "outputs": [],
   "source": [
    "# 나이대 별로 분리\n",
    "total_df.loc[total_df['Age'] <= 16, 'Age'] = 0\n",
    "total_df.loc[(total_df['Age'] > 16) & (total_df['Age'] <= 32), 'Age'] = 1\n",
    "total_df.loc[(total_df['Age'] > 32) & (total_df['Age'] <= 48), 'Age'] = 2\n",
    "total_df.loc[(total_df['Age'] > 48) & (total_df['Age'] <= 64), 'Age'] = 3\n",
    "total_df.loc[total_df['Age'] > 64, 'Age'] = 4"
   ]
  },
  {
   "cell_type": "code",
   "execution_count": 36,
   "id": "tested-summit",
   "metadata": {},
   "outputs": [
    {
     "data": {
      "text/plain": [
       "0       1.0\n",
       "1       2.0\n",
       "2       1.0\n",
       "3       2.0\n",
       "4       2.0\n",
       "       ... \n",
       "1304    1.0\n",
       "1305    2.0\n",
       "1306    2.0\n",
       "1307    1.0\n",
       "1308    1.0\n",
       "Name: Age, Length: 1309, dtype: float64"
      ]
     },
     "execution_count": 36,
     "metadata": {},
     "output_type": "execute_result"
    }
   ],
   "source": [
    "total_df[\"Age\"]"
   ]
  },
  {
   "cell_type": "markdown",
   "id": "hazardous-essay",
   "metadata": {},
   "source": [
    "### Fare Feature"
   ]
  },
  {
   "cell_type": "code",
   "execution_count": 62,
   "id": "patent-audio",
   "metadata": {},
   "outputs": [
    {
     "data": {
      "text/html": [
       "<div>\n",
       "<style scoped>\n",
       "    .dataframe tbody tr th:only-of-type {\n",
       "        vertical-align: middle;\n",
       "    }\n",
       "\n",
       "    .dataframe tbody tr th {\n",
       "        vertical-align: top;\n",
       "    }\n",
       "\n",
       "    .dataframe thead th {\n",
       "        text-align: right;\n",
       "    }\n",
       "</style>\n",
       "<table border=\"1\" class=\"dataframe\">\n",
       "  <thead>\n",
       "    <tr style=\"text-align: right;\">\n",
       "      <th></th>\n",
       "      <th>index</th>\n",
       "      <th>PassengerId</th>\n",
       "      <th>Survived</th>\n",
       "      <th>Pclass</th>\n",
       "      <th>Name</th>\n",
       "      <th>Sex</th>\n",
       "      <th>Age</th>\n",
       "      <th>SibSp</th>\n",
       "      <th>Parch</th>\n",
       "      <th>Ticket</th>\n",
       "      <th>Fare</th>\n",
       "      <th>Cabin</th>\n",
       "      <th>Embarked</th>\n",
       "      <th>Sex_code</th>\n",
       "      <th>Embarked_code</th>\n",
       "    </tr>\n",
       "  </thead>\n",
       "  <tbody>\n",
       "  </tbody>\n",
       "</table>\n",
       "</div>"
      ],
      "text/plain": [
       "Empty DataFrame\n",
       "Columns: [index, PassengerId, Survived, Pclass, Name, Sex, Age, SibSp, Parch, Ticket, Fare, Cabin, Embarked, Sex_code, Embarked_code]\n",
       "Index: []"
      ]
     },
     "execution_count": 62,
     "metadata": {},
     "output_type": "execute_result"
    }
   ],
   "source": [
    "total_df[total_df[\"Fare\"].isnull()]"
   ]
  },
  {
   "cell_type": "code",
   "execution_count": 61,
   "id": "toxic-cooking",
   "metadata": {},
   "outputs": [],
   "source": [
    "total_df.loc[total_df[\"Fare\"].isnull(), \"Fare\"] = train_df[train_df[\"Pclass\"]==3][\"Pclass\"].mean()"
   ]
  },
  {
   "cell_type": "code",
   "execution_count": 63,
   "id": "characteristic-classification",
   "metadata": {
    "scrolled": true
   },
   "outputs": [
    {
     "data": {
      "text/plain": [
       "index               0\n",
       "PassengerId         0\n",
       "Survived          418\n",
       "Pclass              0\n",
       "Name                0\n",
       "Sex                 0\n",
       "Age                 0\n",
       "SibSp               0\n",
       "Parch               0\n",
       "Ticket              0\n",
       "Fare                0\n",
       "Cabin            1014\n",
       "Embarked            0\n",
       "Sex_code            0\n",
       "Embarked_code       0\n",
       "dtype: int64"
      ]
     },
     "execution_count": 63,
     "metadata": {},
     "output_type": "execute_result"
    }
   ],
   "source": [
    "# 각 column들에 null 값 존재여부 확인\n",
    "total_df.isnull().sum()"
   ]
  },
  {
   "cell_type": "markdown",
   "id": "present-kansas",
   "metadata": {},
   "source": [
    "### Feature 선택"
   ]
  },
  {
   "cell_type": "code",
   "execution_count": 70,
   "id": "mighty-forth",
   "metadata": {},
   "outputs": [],
   "source": [
    "# 몇 몇 feature drop\n",
    "drop_features = ['Name', 'Ticket', 'Cabin', 'Sex_code', 'Pclass']\n",
    "total_df.drop(drop_features, axis=1, inplace=True)"
   ]
  },
  {
   "cell_type": "code",
   "execution_count": 71,
   "id": "fluid-courage",
   "metadata": {
    "scrolled": true
   },
   "outputs": [
    {
     "data": {
      "text/plain": [
       "index              int64\n",
       "PassengerId        int64\n",
       "Survived         float64\n",
       "Sex               object\n",
       "Age              float64\n",
       "SibSp              int64\n",
       "Parch              int64\n",
       "Fare             float64\n",
       "Embarked          object\n",
       "Embarked_code      int64\n",
       "dtype: object"
      ]
     },
     "execution_count": 71,
     "metadata": {},
     "output_type": "execute_result"
    }
   ],
   "source": [
    "total_df.dtypes"
   ]
  },
  {
   "cell_type": "markdown",
   "id": "adolescent-mouse",
   "metadata": {},
   "source": [
    "### train, test data 분리"
   ]
  },
  {
   "cell_type": "code",
   "execution_count": 73,
   "id": "unsigned-invasion",
   "metadata": {},
   "outputs": [],
   "source": [
    "# index를 이용해, train_df, test_df 분리\n",
    "train_df = total_df.iloc[train_index]"
   ]
  },
  {
   "cell_type": "code",
   "execution_count": 74,
   "id": "breeding-courage",
   "metadata": {},
   "outputs": [
    {
     "data": {
      "text/plain": [
       "index            0\n",
       "PassengerId      0\n",
       "Survived         0\n",
       "Sex              0\n",
       "Age              0\n",
       "SibSp            0\n",
       "Parch            0\n",
       "Fare             0\n",
       "Embarked         0\n",
       "Embarked_code    0\n",
       "dtype: int64"
      ]
     },
     "execution_count": 74,
     "metadata": {},
     "output_type": "execute_result"
    }
   ],
   "source": [
    "train_df.isnull().sum()"
   ]
  },
  {
   "cell_type": "code",
   "execution_count": 75,
   "id": "exterior-standing",
   "metadata": {},
   "outputs": [],
   "source": [
    "# index를 이용해, train_df, test_df 분리\n",
    "test_df = total_df.iloc[test_index]"
   ]
  },
  {
   "cell_type": "code",
   "execution_count": 76,
   "id": "surrounded-release",
   "metadata": {
    "scrolled": false
   },
   "outputs": [
    {
     "data": {
      "text/plain": [
       "index              0\n",
       "PassengerId        0\n",
       "Survived         418\n",
       "Sex                0\n",
       "Age                0\n",
       "SibSp              0\n",
       "Parch              0\n",
       "Fare               0\n",
       "Embarked           0\n",
       "Embarked_code      0\n",
       "dtype: int64"
      ]
     },
     "execution_count": 76,
     "metadata": {},
     "output_type": "execute_result"
    }
   ],
   "source": [
    "total_df.isnull().sum()"
   ]
  },
  {
   "cell_type": "code",
   "execution_count": 77,
   "id": "sitting-gasoline",
   "metadata": {},
   "outputs": [],
   "source": [
    "# One-hot-encoding for categorical variables\n",
    "train_df = pd.get_dummies(train_df)\n",
    "test_df = pd.get_dummies(test_df)"
   ]
  },
  {
   "cell_type": "markdown",
   "id": "intensive-acrobat",
   "metadata": {},
   "source": [
    "수치형 데이터로만 변환을 하게 되면 서로 간의 관계성이 생기게 된다.\n",
    "그러나 실제 데이터인 월요일, 화요일, 수요일 간에는 그러한 관계성이 없다!\n",
    "따라서, 사실이 아닌 관계성으로 인해 잘못된 학습이 일어날 수 있으므로\n",
    "서로 무관한 수, 즉 더미로 만든 가변수로 변환함으로서 그러한 문제를 막아준다!\n",
    "\n",
    "판다스(pandas)에서는 손쉽게 더미의 가변수를 만들 수 있도록 get_dummies함수를 제공하고 있다.\n",
    "\n",
    "출처: https://devuna.tistory.com/67 [튜나 개발일기📚]"
   ]
  },
  {
   "cell_type": "code",
   "execution_count": 86,
   "id": "laughing-behalf",
   "metadata": {},
   "outputs": [],
   "source": [
    "from sklearn.linear_model import LinearRegression, LogisticRegression"
   ]
  },
  {
   "cell_type": "code",
   "execution_count": 79,
   "id": "british-directory",
   "metadata": {},
   "outputs": [],
   "source": [
    "train_label = train_df['Survived']"
   ]
  },
  {
   "cell_type": "code",
   "execution_count": 80,
   "id": "applicable-hearts",
   "metadata": {},
   "outputs": [],
   "source": [
    "train_data = train_df.drop('Survived', axis=1)"
   ]
  },
  {
   "cell_type": "code",
   "execution_count": 81,
   "id": "democratic-rough",
   "metadata": {},
   "outputs": [],
   "source": [
    "test_data = test_df.drop('Survived', axis=1)"
   ]
  },
  {
   "cell_type": "code",
   "execution_count": 82,
   "id": "suburban-swiss",
   "metadata": {},
   "outputs": [],
   "source": [
    "def train_and_test(model):\n",
    "    model.fit(train_data, train_label)\n",
    "    prediction = model.predict(test_data)\n",
    "    accuracy = round(model.score(train_data, train_label) * 100, 2)\n",
    "    print(\"Accuracy : \", accuracy, \"%\")\n",
    "    return prediction"
   ]
  },
  {
   "cell_type": "code",
   "execution_count": 89,
   "id": "spread-governor",
   "metadata": {},
   "outputs": [
    {
     "name": "stdout",
     "output_type": "stream",
     "text": [
      "Accuracy :  80.14 %\n"
     ]
    },
    {
     "name": "stderr",
     "output_type": "stream",
     "text": [
      "C:\\Users\\worud\\Miniconda3\\envs\\upstage\\lib\\site-packages\\sklearn\\linear_model\\_logistic.py:763: ConvergenceWarning: lbfgs failed to converge (status=1):\n",
      "STOP: TOTAL NO. of ITERATIONS REACHED LIMIT.\n",
      "\n",
      "Increase the number of iterations (max_iter) or scale the data as shown in:\n",
      "    https://scikit-learn.org/stable/modules/preprocessing.html\n",
      "Please also refer to the documentation for alternative solver options:\n",
      "    https://scikit-learn.org/stable/modules/linear_model.html#logistic-regression\n",
      "  n_iter_i = _check_optimize_result(\n"
     ]
    }
   ],
   "source": [
    "# Logistic Regression\n",
    "log_pred = train_and_test(LogisticRegression())"
   ]
  },
  {
   "cell_type": "code",
   "execution_count": null,
   "id": "impossible-northwest",
   "metadata": {},
   "outputs": [],
   "source": []
  }
 ],
 "metadata": {
  "kernelspec": {
   "display_name": "Python 3",
   "language": "python",
   "name": "python3"
  },
  "language_info": {
   "codemirror_mode": {
    "name": "ipython",
    "version": 3
   },
   "file_extension": ".py",
   "mimetype": "text/x-python",
   "name": "python",
   "nbconvert_exporter": "python",
   "pygments_lexer": "ipython3",
   "version": "3.8.5"
  }
 },
 "nbformat": 4,
 "nbformat_minor": 5
}
